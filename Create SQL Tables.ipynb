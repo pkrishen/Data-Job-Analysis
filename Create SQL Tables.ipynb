{
 "cells": [
  {
   "cell_type": "code",
   "execution_count": 1,
   "metadata": {},
   "outputs": [],
   "source": [
    "import sqlite3"
   ]
  },
  {
   "cell_type": "code",
   "execution_count": null,
   "metadata": {},
   "outputs": [],
   "source": [
    "#Create sqlite tables\n",
    "conn = sqlite3.connect('JobData.db')\n",
    "\n",
    "c = conn.cursor()\n",
    "\n",
    "c.execute(\"\"\" CREATE TABLE Jobs(\n",
    "    id text not null,\n",
    "    job_title text not null,\n",
    "    company text not null,\n",
    "    location text not null,\n",
    "    rating_provided text not null,\n",
    "    rating real null,\n",
    "    salary_provided text not null,\n",
    "    salary_text text null,\n",
    "    weblink text not null,\n",
    "    date_recorded not null,\n",
    "\n",
    "    CONSTRAINT PK_Jobs_id PRIMARY KEY (id)\n",
    ")\n",
    "\"\"\")\n",
    "\n",
    "c.execute(\"\"\" CREATE TABLE Salaries(\n",
    "    id text not null,\n",
    "    salary_text text not null,\n",
    "    salary_type text null,\n",
    "    min_yearly real null,\n",
    "    expected_yearly real null,\n",
    "    max_yearly real null,\n",
    "\n",
    "    CONSTRAINT PK_Salaries_id PRIMARY KEY (id),\n",
    "    CONSTRAINT FK_Salaries_id FOREIGN KEY (id) REFERENCES Jobs (id)\n",
    ")\n",
    "\"\"\")\n",
    "\n",
    "c.execute(\"\"\" CREATE TABLE KeywordRef(\n",
    "    id text not null,\n",
    "    keyword text not null,\n",
    "    CONSTRAINT PK_KeywordRef_id_keyword PRIMARY KEY (id, keyword)\n",
    ")\n",
    "\"\"\")\n",
    "\n",
    "conn.commit()\n",
    "\n",
    "conn.close()"
   ]
  }
 ],
 "metadata": {
  "kernelspec": {
   "display_name": "base",
   "language": "python",
   "name": "python3"
  },
  "language_info": {
   "codemirror_mode": {
    "name": "ipython",
    "version": 3
   },
   "file_extension": ".py",
   "mimetype": "text/x-python",
   "name": "python",
   "nbconvert_exporter": "python",
   "pygments_lexer": "ipython3",
   "version": "3.7.6"
  }
 },
 "nbformat": 4,
 "nbformat_minor": 2
}
